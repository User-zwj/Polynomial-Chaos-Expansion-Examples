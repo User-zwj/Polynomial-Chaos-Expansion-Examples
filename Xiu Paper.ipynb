{
 "cells": [
  {
   "cell_type": "markdown",
   "metadata": {},
   "source": [
    "# (1) Compute $k_i$"
   ]
  },
  {
   "cell_type": "markdown",
   "metadata": {},
   "source": [
    "$$ k=\\sum_{i=0}^{P} k_i \\Phi_i(\\xi)$$\n",
    "\n",
    "$k_i$ are deterministic coefficients. We use the Galerkin projection to compute them:\n",
    "$$ k_i=\\frac{<k\\Phi_i(\\xi)>}{<\\Phi_i^2(\\xi)>}=\\frac{1}{<\\Phi_i^2(\\xi)>}\\int_{-\\infty}^{\\infty} \\frac{1}{\\sqrt{2\\pi}\n",
    "}k\\Phi_i(\\xi)e^{-\\frac{\\xi^2}{2}}\\ d\\xi$$\n",
    "\n",
    "<font color = red> To be more general </font>\n",
    "    \n",
    "It is kind of meaningless becuase we don't know what $k$ is. We are gonna do something called an inverse sample transform, the reason why we can do that is because $k$ and $\\xi$ are fully dependent\n",
    "\n",
    "<font color = red> Numerator: </font> Using the CDF of both random variables, transform them to the same **uniform** random variables supported on $[0,1]$\n",
    "$$u=G(\\xi)=F(k)$$\n",
    "$$k=F^{-1}(u)=h(u)$$\n",
    "$$\\xi=G^{-1}(u)=l(u)$$\n",
    "Using this transform, the integral is transformed:\n",
    "$$\\int_{-\\infty}^{\\infty} \\frac{1}{\\sqrt{2\\pi}}k\\Phi_i(\\xi)e^{-\\frac{\\xi^2}{2}}\\ d\\xi \\Longrightarrow \\int_0^1 h(u)\\Phi_i(l(u))\\ du$$\n",
    "\n",
    "<font color = red> To be more general </font>\n",
    "\n",
    "For the inner product term, three options:\n",
    "- use the closed form representation from the orthogonality condition: $<\\Phi_i^2(\\xi)>=i!$ <font color = red> Here since the weight function is the real pdf of $\\xi$, but weighting function in the package is just $e^{-\\xi^2/2}$ </font>\n",
    "- Choose a scaling of $\\xi$ such that the orthogonality condition is just the Kronecker delta:\n",
    "- Just compute the integral\n",
    "\n",
    "<font color = red> Denominator: </font> Option 2 is best, but tedious. So let's go with option three using Gaussian-Hermite quadrature\n",
    "$$ \\int_{-\\infty}^{\\infty} f(x)e^{-\\frac{x^2}{2}}\\approx\\sum_{i=0}^{N}w_i f(x_i)$$\n"
   ]
  },
  {
   "cell_type": "code",
   "execution_count": 1,
   "metadata": {},
   "outputs": [],
   "source": [
    "import numpy as np\n",
    "import numpy.polynomial.hermite_e as H\n",
    "from scipy.stats import norm\n",
    "import scipy.integrate as integrate\n",
    "import scipy.integrate.quadrature as G_qua\n",
    "from matplotlib import pyplot as plt\n",
    "\n",
    "%matplotlib inline"
   ]
  },
  {
   "cell_type": "markdown",
   "metadata": {},
   "source": [
    "The reason why it uses hermite_2 is because they are probabilists' Hermite polynomials, usually use notation $H_{e_0}, H_{e_1},\\ldots$"
   ]
  },
  {
   "cell_type": "code",
   "execution_count": 158,
   "metadata": {},
   "outputs": [
    {
     "data": {
      "text/plain": [
       "5.0"
      ]
     },
     "execution_count": 158,
     "metadata": {},
     "output_type": "execute_result"
    }
   ],
   "source": [
    "H.hermeval(2, [0,1,1])"
   ]
  },
  {
   "cell_type": "code",
   "execution_count": 159,
   "metadata": {},
   "outputs": [],
   "source": [
    "def Herm(n):\n",
    "    #define H_n\n",
    "    coeffs = [0]*(n+1)\n",
    "    coeffs[n] = 1\n",
    "    return coeffs\n",
    "\n",
    "def inner_product(h1, h2):\n",
    "    return lambda x: H.hermeval(x, H.hermemul(h1, h2))  \n",
    "\n",
    "\n",
    "def trapezoid_int(f, a, b, n=100):\n",
    "    P = [a + i*(b-a)/n for i in range(0, n+1)]\n",
    "    F = [1/2*np.abs(P[i+1] - P[i])*(f(P[i+1]) + f(P[i])) for i in range(0, n)]  \n",
    "    return sum(F)\n",
    "\n",
    "def unif_icdf(params):\n",
    "    a = params[0]\n",
    "    b = params[1]\n",
    "    return lambda u: u*(b-a)+a\n",
    "\n",
    "def expo_icdf(params):\n",
    "    return lambda u:-np.log(1-u)\n",
    "\n",
    "def norm_icdf(params):                          #k=h(u)\n",
    "    return lambda u:norm.ppf(u, loc=0, scale=1)\n",
    "\n",
    "def factorial(n):\n",
    "    k=1\n",
    "    if n==0:\n",
    "        k=1\n",
    "    else:\n",
    "        for i in range(1,n+1):\n",
    "            k=k*i\n",
    "    return k\n",
    "\n",
    "# def h_phi_l(h):\n",
    "#     return lambda x: h(x)*H.hermeval(norm.ppf(x,loc=0,scale=1),Herm(i))"
   ]
  },
  {
   "cell_type": "code",
   "execution_count": 160,
   "metadata": {},
   "outputs": [],
   "source": [
    "def approximate_rv_coeffs(P,h):\n",
    "    #P is the number of Hermite-Chaos\n",
    "    #h is the inverse pdf of k\n",
    "    #initialize lists for output to make syntax more canonical with the math\n",
    "    ki=[0]*P\n",
    "    \n",
    "    #Set up Gauss-Hermite quadrature\n",
    "    m=P**2\n",
    "    x, w=H.hermegauss(m)        #x is point, w is the corresponding weight\n",
    "    \n",
    "    #Compute the coefficients, and also build out k in the same pass\n",
    "    for i in range(0, P):\n",
    "        #compute the inner product with Gaussian-Hermite quadrature, denominator\n",
    "        ip=sum([inner_product(Herm(i), Herm(i))(x[idx]) * w[idx] for idx in range(m)])         \n",
    "        #compute the integral, numerator\n",
    "        integrand=lambda u:h(u)*H.hermeval(norm.ppf(u, loc=0, scale=1), Herm(i))     #norm.ppf, since expansion of \\xi\n",
    "        #ki[i]=np.sqrt(2*np.pi)/G_qua(h_phi_l(h), 0, 1)\n",
    "        ki[i]=trapezoid_int(integrand, 0.001, 1-0.001, 1000)/factorial(i)\n",
    "    return ki     #ki is the coefficient"
   ]
  },
  {
   "cell_type": "code",
   "execution_count": 161,
   "metadata": {},
   "outputs": [],
   "source": [
    "def generate_rv(ki, S):\n",
    "    #different P will give different ki\n",
    "    #build out k termwise\n",
    "    k = [0]*len(S)\n",
    "    for i in range(len(ki)):\n",
    "        k=np.add(k, ki[i]*H.hermeval(S, Herm(i)))\n",
    "    return k"
   ]
  },
  {
   "cell_type": "code",
   "execution_count": 162,
   "metadata": {},
   "outputs": [],
   "source": [
    "#Generate a bunch of Gaussian random variables to use\n",
    "N=5000\n",
    "S=np.random.normal(loc=0, scale=1, size=N)"
   ]
  },
  {
   "cell_type": "code",
   "execution_count": 163,
   "metadata": {
    "scrolled": true
   },
   "outputs": [
    {
     "data": {
      "image/png": "[encoded data removed]",
      "text/plain": [
       "<matplotlib.figure.Figure at 0x1a23feba58>"
      ]
     },
     "metadata": {},
     "output_type": "display_data"
    }
   ],
   "source": [
    "h = unif_icdf([0,1])                          #index k follows uniform distr\n",
    "ki_uniform = approximate_rv_coeffs(10, h)     #change the order\n",
    "k = generate_rv(ki_uniform, S)\n",
    "out = plt.hist(k, bins=50)"
   ]
  },
  {
   "cell_type": "code",
   "execution_count": 54,
   "metadata": {
    "scrolled": true
   },
   "outputs": [
    {
     "data": {
      "image/png": "[encoded data removed]",
      "text/plain": [
       "<matplotlib.figure.Figure at 0x1a1a458630>"
      ]
     },
     "metadata": {},
     "output_type": "display_data"
    }
   ],
   "source": [
    "h = norm_icdf([])                          #index k follows norm distr\n",
    "ki_norm = approximate_rv_coeffs(5, h)     #change the order\n",
    "k = generate_rv(ki_norm, S)\n",
    "out = plt.hist(k, bins=50)"
   ]
  },
  {
   "cell_type": "code",
   "execution_count": 55,
   "metadata": {
    "scrolled": true
   },
   "outputs": [
    {
     "data": {
      "text/plain": [
       "[4.770489558936219e-18,\n",
       " 0.9774860948298655,\n",
       " 2.8796409701214993e-16,\n",
       " -0.03233346505595982,\n",
       " 1.214306433183764e-17]"
      ]
     },
     "execution_count": 55,
     "metadata": {},
     "output_type": "execute_result"
    }
   ],
   "source": [
    "ki_norm"
   ]
  },
  {
   "cell_type": "code",
   "execution_count": 45,
   "metadata": {},
   "outputs": [
    {
     "data": {
      "text/plain": [
       "-0.0133265865433016"
      ]
     },
     "execution_count": 45,
     "metadata": {},
     "output_type": "execute_result"
    },
    {
     "data": {
      "image/png": "[encoded data removed]",
      "text/plain": [
       "<matplotlib.figure.Figure at 0x1a1a68b1d0>"
      ]
     },
     "metadata": {},
     "output_type": "display_data"
    }
   ],
   "source": [
    "h = expo_icdf([])                          #index k follows expo distr\n",
    "ki_expo = approximate_rv_coeffs(3, h)     #change the order\n",
    "k = generate_rv(ki_expo, S)\n",
    "out = plt.hist(k, bins=50)\n",
    "k.min()"
   ]
  },
  {
   "cell_type": "code",
   "execution_count": null,
   "metadata": {},
   "outputs": [],
   "source": []
  },
  {
   "cell_type": "markdown",
   "metadata": {},
   "source": [
    "# (2) Compute $y_i$"
   ]
  },
  {
   "cell_type": "code",
   "execution_count": 26,
   "metadata": {},
   "outputs": [],
   "source": [
    "def approx_inner2(P,i,j):\n",
    "    #P is the number of Hermite-Chaos\n",
    "\n",
    "    #Set up Gauss-Hermite quadrature\n",
    "    m=P**2\n",
    "    x, w=H.hermegauss(m)        #x is point, w is the corresponding weight\n",
    "    inner=sum([inner_product(Herm(i), Herm(j))(x[idx]) * w[idx] for idx in range(m)])         \n",
    "    \n",
    "    return np.sqrt(2*np.pi)*inner"
   ]
  },
  {
   "cell_type": "markdown",
   "metadata": {},
   "source": [
    "-----\n",
    "Doesn't work"
   ]
  },
  {
   "cell_type": "code",
   "execution_count": 23,
   "metadata": {},
   "outputs": [],
   "source": [
    "def approx_inner3(P,i,j,l):\n",
    "    #P is the number of Hermite-Chaos\n",
    "\n",
    "    #Set up Gauss-Hermite quadrature\n",
    "    m=P**2\n",
    "    x, w=H.hermegauss(m)        #x is point, w is the corresponding weight\n",
    "    inner=sum([inner_product(inner_product(Herm(i), Herm(j)),Herm(l))(x[idx]) * w[idx] for idx in range(m)])         \n",
    "    \n",
    "    return np.sqrt(2*np.pi)*inner"
   ]
  },
  {
   "cell_type": "markdown",
   "metadata": {},
   "source": [
    "----"
   ]
  },
  {
   "cell_type": "code",
   "execution_count": 31,
   "metadata": {},
   "outputs": [],
   "source": [
    "def inner3_product(i,j,l):\n",
    "    return lambda x: H.hermeval(x, H.hermemul(H.hermemul(Herm(i),Herm(j)),Herm(l))) "
   ]
  },
  {
   "cell_type": "code",
   "execution_count": 93,
   "metadata": {},
   "outputs": [],
   "source": [
    "def approx_inner3(P,i,j,l):\n",
    "    #P is the number of Hermite-Chaos\n",
    "\n",
    "    #Set up Gauss-Hermite quadrature\n",
    "    m=P**2\n",
    "    x, w=H.hermegauss(m)        #x is point, w is the corresponding weight\n",
    "    inner=sum([inner3_product(i,j,l)(x[idx]) * w[idx] for idx in range(m)])         \n",
    "    \n",
    "#     return np.sqrt(2*np.pi)*inner\n",
    "    return inner/np.sqrt(2*np.pi)"
   ]
  },
  {
   "cell_type": "code",
   "execution_count": 94,
   "metadata": {},
   "outputs": [
    {
     "data": {
      "text/plain": [
       "4.602162686824381e-17"
      ]
     },
     "execution_count": 94,
     "metadata": {},
     "output_type": "execute_result"
    }
   ],
   "source": [
    "approx_inner3(3,1,1,1)"
   ]
  },
  {
   "cell_type": "code",
   "execution_count": 95,
   "metadata": {},
   "outputs": [],
   "source": [
    "def ode_system(y, t):\n",
    "    y0, y1, y2 = y\n",
    "    dydt = [(-approx_inner3(3,1,0,0)*y0 - approx_inner3(3,1,1,0)*y1 - approx_inner3(3,1,2,0)*y2),\n",
    "            (-approx_inner3(3,1,0,1)*y0 - approx_inner3(3,1,1,1)*y1 - approx_inner3(3,1,2,1)*y2),\n",
    "            (-approx_inner3(3,1,0,2)*y0 - approx_inner3(3,1,1,2)*y1 - approx_inner3(3,1,2,2)*y2)/2]\n",
    "    return dydt"
   ]
  },
  {
   "cell_type": "code",
   "execution_count": null,
   "metadata": {},
   "outputs": [],
   "source": [
    "def ode_system(y, t):\n",
    "    y0, y1, y2 = y\n",
    "    dy0dt = (-inner3(3,1,0,0)*y0 - inner3(3,1,1,0)*y1 - inner3(3,1,2,0)*y2)\n",
    "    dy1dt = (-inner3(3,1,0,1)*y0 - inner3(3,1,1,1)*y1 - inner3(3,1,2,1)*y2)\n",
    "    dy2dt = (-inner3(3,1,0,2)*y0 - inner3(3,1,1,2)*y1 - inner3(3,1,2,2)*y2)/2\n",
    "    return dy0dt, dy1dt, dy2dt"
   ]
  },
  {
   "cell_type": "markdown",
   "metadata": {},
   "source": [
    "----"
   ]
  },
  {
   "cell_type": "code",
   "execution_count": 96,
   "metadata": {},
   "outputs": [],
   "source": [
    "from scipy.integrate import odeint"
   ]
  },
  {
   "cell_type": "code",
   "execution_count": 97,
   "metadata": {},
   "outputs": [],
   "source": [
    "sol = odeint(ode_system, [1.0, 0.0, 0.0], np.linspace(0,1,101))"
   ]
  },
  {
   "cell_type": "code",
   "execution_count": 99,
   "metadata": {},
   "outputs": [
    {
     "data": {
      "text/plain": [
       "[<matplotlib.lines.Line2D at 0x1a1dcf3320>]"
      ]
     },
     "execution_count": 99,
     "metadata": {},
     "output_type": "execute_result"
    },
    {
     "data": {
      "image/png": "[encoded data removed]",
      "text/plain": [
       "<matplotlib.figure.Figure at 0x1a1dbf7c50>"
      ]
     },
     "metadata": {},
     "output_type": "display_data"
    }
   ],
   "source": [
    "plt.figure()\n",
    "plt.plot(np.linspace(0,1,101),sol[:,0])\n",
    "plt.plot(np.linspace(0,1,101),sol[:,1])\n",
    "plt.plot(np.linspace(0,1,101),sol[:,2])"
   ]
  },
  {
   "cell_type": "code",
   "execution_count": null,
   "metadata": {},
   "outputs": [],
   "source": []
  },
  {
   "cell_type": "code",
   "execution_count": null,
   "metadata": {},
   "outputs": [],
   "source": []
  },
  {
   "cell_type": "code",
   "execution_count": null,
   "metadata": {},
   "outputs": [],
   "source": []
  },
  {
   "cell_type": "code",
   "execution_count": 2,
   "metadata": {},
   "outputs": [],
   "source": [
    "def inner2_product(h1, h2):\n",
    "    return lambda x: H.hermeval(x, H.hermemul(h1, h2))     \n",
    "\n",
    "def inner3_product(h1,h2,h3):\n",
    "    return lambda x: H.hermeval(x, H.hermemul(H.hermemul(h1,h2),h3)) \n",
    "\n",
    "def integ1_func(h1,h2):\n",
    "    return lambda x:inner2_product(h1,h2)(x)*(norm.pdf(x))"
   ]
  },
  {
   "cell_type": "markdown",
   "metadata": {},
   "source": [
    "---"
   ]
  },
  {
   "cell_type": "code",
   "execution_count": null,
   "metadata": {},
   "outputs": [],
   "source": [
    "def exact_mean(t):\n",
    "    f=np.exp(t**2/2)\n",
    "    return f"
   ]
  },
  {
   "cell_type": "code",
   "execution_count": 3,
   "metadata": {},
   "outputs": [
    {
     "data": {
      "text/plain": [
       "<matplotlib.legend.Legend at 0x1a18232da0>"
      ]
     },
     "execution_count": 3,
     "metadata": {},
     "output_type": "execute_result"
    },
    {
     "data": {
      "image/png": "[encoded data removed]",
      "text/plain": [
       "<matplotlib.figure.Figure at 0x1a161e55c0>"
      ]
     },
     "metadata": {},
     "output_type": "display_data"
    }
   ],
   "source": [
    "t=np.linspace(0,1,100)\n",
    "plt.ylim([-2,2])\n",
    "plt.plot(t, exact_mean(t),label=\"$y_0$(mean)\")\n",
    "\n",
    "plt.axhline(y=1.0, color='r', linestyle='-.',label='Deterministic')\n",
    "\n",
    "#plt.yticks(np.arange(-2, 2, step=0.5))\n",
    "plt.ylabel(\"Solution\")\n",
    "plt.xlabel(\"Time\")\n",
    "plt.legend(loc=3)"
   ]
  },
  {
   "cell_type": "code",
   "execution_count": null,
   "metadata": {},
   "outputs": [],
   "source": []
  }
 ],
 "metadata": {
  "kernelspec": {
   "display_name": "Python 3",
   "language": "python",
   "name": "python3"
  },
  "language_info": {
   "codemirror_mode": {
    "name": "ipython",
    "version": 3
   },
   "file_extension": ".py",
   "mimetype": "text/x-python",
   "name": "python",
   "nbconvert_exporter": "python",
   "pygments_lexer": "ipython3",
   "version": "3.7.5"
  }
 },
 "nbformat": 4,
 "nbformat_minor": 2
}
