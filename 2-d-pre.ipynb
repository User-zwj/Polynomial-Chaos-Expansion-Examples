{
 "cells": [
  {
   "cell_type": "markdown",
   "metadata": {},
   "source": [
    "$$\n",
    "\\frac{dy}{dt} = -ky\n",
    "$$\n",
    "where $y(0)=y_0 \\sim N(0,1)$, $k\\sim N(0,1)$ independent\n",
    "\n",
    "$$\n",
    "y(t,k,y_0) = \\sum_{i=0}^{P(P+3)/2} y_i(t) Q_i(\\xi_1, \\xi_2)\n",
    "$$\n",
    "where $\\xi_1, \\xi_2\\sim N(0,1)$ and they are independent"
   ]
  },
  {
   "cell_type": "markdown",
   "metadata": {},
   "source": [
    "| 1 | 2 | 3 | 4 | 5 |\n",
    "| --- | --- | --- | --- | --- |\n",
    "| $1$ |  |  |  |  |\n",
    "| $H_1$ | $J_1$ |  |  |  |\n",
    "| $H_2$ | $H_1J_1$ | $J_2$ |  |  |\n",
    "| $H_3$ | $H_2J_1$ | $H_1J_2$ | $J_3$ |  |\n",
    "| $H_4$ | $H_3J_1$ | $H_2J_2$ | $H_1J_3$ | $J_4$ |\n",
    "\n",
    "| 1 | 2 | 3 | 4 | 5 |\n",
    "| --- | --- | --- | --- | --- |\n",
    "| $Q_0$ |  |  |  |  |\n",
    "| $Q_1$ | $Q_2$ |  |  |  |\n",
    "| $Q_3$ | $Q_4$ | $Q_5$ |  |  |\n",
    "| $Q_6$ | $Q_7$ | $Q_8$ | $Q_9$ |  |\n",
    "| $Q_{10}$ | $Q_{11}$ | $Q_{12}$ | $Q_{13}$ | $Q_{14}$ |"
   ]
  },
  {
   "cell_type": "markdown",
   "metadata": {},
   "source": [
    "$$\n",
    "k = \\sum_{i=0}^P k_i H_i(\\xi_1) = \\sum_{i=0}^P k_i Q_{i(i+1)/2}\n",
    "$$\n",
    "\n",
    "$$\n",
    "\\sum_{l=0}^{P(P+3)/2} \\frac{d y_l(t)}{dt} Q_l(\\xi_1, \\xi_2) = - \\left(\\sum_{i=0}^P k_i Q_{i(i+1)/2}\\right) \\left(\\sum_{j=0}^{P(P+3)/2} y_j(t) Q_j(\\xi_1, \\xi_2)\\right)\n",
    "$$\n",
    "\n",
    "$$\n",
    "\\frac{dy_l(t)}{dt} = - \\frac{1}{\\langle Q_l^2\\rangle} \\sum_{i=0}^P\\sum_{j=0}^{P(P+3)/2} k_i y_j \\langle Q_{i(i+1)/2}Q_jQ_l\\rangle\n",
    "$$"
   ]
  },
  {
   "cell_type": "code",
   "execution_count": 1,
   "metadata": {},
   "outputs": [],
   "source": [
    "import numpy as np\n",
    "import timeit\n",
    "import numpy.polynomial.hermite_e as H \n",
    "from math import factorial\n",
    "from scipy.stats import norm\n",
    "from scipy.integrate import odeint\n",
    "from matplotlib import pyplot as plt\n",
    "\n",
    "%matplotlib notebook"
   ]
  },
  {
   "cell_type": "code",
   "execution_count": 2,
   "metadata": {},
   "outputs": [],
   "source": [
    "def Phi(n):\n",
    "    #define H_n\n",
    "    coeffs = [0]*(n+1)\n",
    "    coeffs[n] = 1\n",
    "    return coeffs\n",
    "\n",
    "def inner2_herm(n):       ###return the denominator when computing $k_i$\n",
    "    return factorial(n)\n",
    "\n",
    "def product3_herm(i,j,l):\n",
    "    #compute \\Phi_i*\\Phi_j*\\Phi_l\n",
    "    return lambda x: H.hermeval(x, H.hermemul(H.hermemul(Phi(i),Phi(j)),Phi(l))) \n",
    "\n",
    "def inner3_herm(P,i,j,l):\n",
    "    #compute <\\Phi_i\\Phi_j\\Phi_l>\n",
    "    \n",
    "    #Set up Gauss-Hermite quadrature, weighting function is exp^{-x^2}\n",
    "    m=(P+1)**2\n",
    "    x, w=H.hermegauss(m)        \n",
    "    inner=sum([product3_herm(i,j,l)(x[idx]) * w[idx] for idx in range(m)])         \n",
    "    \n",
    "    return inner/np.sqrt(2*np.pi)   #because of the weight\n"
   ]
  },
  {
   "cell_type": "code",
   "execution_count": 3,
   "metadata": {},
   "outputs": [],
   "source": [
    "P=4\n",
    "ki_herm = [0,1]+[0]*(P-1)\n",
    "Inner3_herm = np.zeros((P+1,P+1,P+1)) #store all inner3_herm values\n",
    "Inner2_herm = np.zeros(P+1)\n",
    "\n",
    "for i in range(P+1):\n",
    "    for j in range(P+1):\n",
    "        for l in range(P+1):\n",
    "            Inner3_herm[i,j,l] = inner3_herm(P,i,j,l)\n",
    "\n",
    "for i in range(P+1):\n",
    "    Inner2_herm[i] = inner2_herm(i)\n",
    "            "
   ]
  },
  {
   "cell_type": "code",
   "execution_count": 101,
   "metadata": {},
   "outputs": [],
   "source": [
    "def index(i):\n",
    "    if i == 0:\n",
    "        return np.array([0, 0])\n",
    "    elif i == 1:\n",
    "        return np.array([1, 0])\n",
    "    elif i ==2:\n",
    "        return np.array([0, 1])\n",
    "    else:\n",
    "        for n in range(2,P+1):\n",
    "            q=2\n",
    "            if i // np.int((n+2)*(n-1)/2) >=1 and i // np.int((n+3)*n/2+1) ==0:\n",
    "                q = n\n",
    "                v = i % np.int((q+2)*(q-1)/2+1)\n",
    "                w = np.int(q-v)\n",
    "                break\n",
    "        return np.array([w,v])"
   ]
  },
  {
   "cell_type": "code",
   "execution_count": 95,
   "metadata": {},
   "outputs": [
    {
     "name": "stdout",
     "output_type": "stream",
     "text": [
      "hi\n",
      "hi again\n"
     ]
    },
    {
     "data": {
      "text/plain": [
       "array([1, 1])"
      ]
     },
     "execution_count": 95,
     "metadata": {},
     "output_type": "execute_result"
    }
   ],
   "source": [
    "index(4)"
   ]
  },
  {
   "cell_type": "markdown",
   "metadata": {},
   "source": [
    "\\begin{align*}\n",
    "\\langle Q_i Q_j Q_l \\rangle &= \\langle H_{index(i)[0]}J_{index(i)[1]}H_{index(j)[0]}J_{index(j)[1]}H_{index(l)[0]}J_{index(l)[1]} \\rangle\\\\\n",
    "& = \\langle H_{index(i)[0]}H_{index(j)[0]}H_{index(l)[0]}\\rangle \\langle J_{index(i)[1]}J_{index(j)[1]}J_{index(l)[1]}\\rangle\\\\\n",
    "& = Inner3_{herm}[index(i)[0],index(j)[0],index(l)[0]] \\times Inner3_{herm}[index(i)[1],index(j)[1],index(l)[1]]\n",
    "\\end{align*}"
   ]
  },
  {
   "cell_type": "markdown",
   "metadata": {},
   "source": [
    "\\begin{align*}\n",
    "\\langle Q_i^2 \\rangle &= \\langle H_{index(i)[0]}J_{index(i)[1]}H_{index(i)[0]}J_{index(i)[1]}\\\\\n",
    "&= \\langle H_{index(i)[0]}H_{index(i)[0]}\\rangle \\langle J_{index(i)[1]}J_{index(i)[1]}\\rangle\\\\\n",
    "& = Inner2_{herm}[index(i)[0]] \\times Inner3_{herm}[index(i)[1]]\n",
    "\\end{align*}"
   ]
  },
  {
   "cell_type": "code",
   "execution_count": 103,
   "metadata": {},
   "outputs": [],
   "source": [
    "P = 4\n",
    "ki_herm = [0,1]+[0]*(P-1)\n",
    "# when P=4, the largest index of Q is P(P+3)/2\n",
    "z = np.int(P*(P+3)/2+1)\n",
    "Inner3_q = np.zeros((z,z,z)) #store all inner3_q values\n",
    "Inner2_q = np.zeros(z)\n",
    "\n",
    "for i in range(z):\n",
    "    for j in range(z):\n",
    "        for l in range(z):\n",
    "            a = index(i)[0]\n",
    "            b = index(j)[0]\n",
    "            c = index(l)[0]\n",
    "            d = index(i)[1]\n",
    "            e = index(j)[1]\n",
    "            f = index(l)[1]\n",
    "            Inner3_q[i,j,l] = Inner3_herm[a,b,c]*Inner3_herm[d,e,f]\n",
    "\n",
    "for i in range(z):\n",
    "    a = index(i)[0]\n",
    "    b = index(i)[1]\n",
    "    Inner2_q[i] = Inner2_herm[a]*Inner2_herm[b]"
   ]
  },
  {
   "cell_type": "markdown",
   "metadata": {},
   "source": [
    "$$\n",
    "\\frac{dy_l(t)}{dt} = - \\frac{1}{\\langle Q_l^2\\rangle} \\sum_{i=0}^P\\sum_{j=0}^{P(P+3)/2} k_i y_j \\langle Q_{i(i+1)/2}Q_jQ_l\\rangle\n",
    "$$"
   ]
  },
  {
   "cell_type": "code",
   "execution_count": 104,
   "metadata": {},
   "outputs": [],
   "source": [
    "def ode_system_q(y, t, P):   \n",
    "    #P indicates the highest degree\n",
    "    dydt = np.zeros(np.int(P*(P+3)/2+1)) \n",
    "    for l in range(len(dydt)):\n",
    "        dydt[l] = -(sum(sum(Inner3_q[np.int(i*(i+1)/2),j,l]*ki_herm[i]*y[j] for j in range(np.int(P*(P+3)/2+1))) for i in range(P+1)))/Inner2_q[l]\n",
    "    return dydt\n",
    "            "
   ]
  },
  {
   "cell_type": "code",
   "execution_count": 105,
   "metadata": {},
   "outputs": [],
   "source": [
    "y_init = [0.0, 0.0, 1.0]+[0.0]*np.int(P*(P+3)/2-2)\n",
    "\n",
    "sol_q = odeint(ode_system_q, y_init, np.linspace(0,1,101), args=(P, )) "
   ]
  },
  {
   "cell_type": "markdown",
   "metadata": {},
   "source": [
    "**Analytically**\n",
    "$$\n",
    "y(t,k,y_0) = y_0 e^{-kt}\n",
    "$$\n",
    "\n",
    "\\begin{align*}\n",
    "\\bar{y}(t) &= \\int_Y\\int_X y_0 e^{-kt}\\ d f_1(k)\\ d f_2(y_0)\\\\\n",
    "&= \\int_Y y_0\\ d f_2(y_0) \\int_X e^{-kt}\\ d f_1(k)\\\\\n",
    "&=0\n",
    "\\end{align*}\n",
    "$Y$ is the support of pdf of $\\xi_2$, $X$ is the support of pdf of $\\xi_1$"
   ]
  },
  {
   "cell_type": "markdown",
   "metadata": {},
   "source": [
    "**PC:**\n",
    "$$\n",
    "y(t,k,y_0) = \\sum_{i=0}^{P(P+3)/2} y_i(t) Q_i(\\xi_1, \\xi_2)\n",
    "$$\n",
    "\n",
    "$$\n",
    "\\bar{y}(t) = y_0(t)\n",
    "$$"
   ]
  },
  {
   "cell_type": "code",
   "execution_count": 106,
   "metadata": {},
   "outputs": [
    {
     "data": {
      "text/plain": [
       "-3.979993464696795e-17"
      ]
     },
     "execution_count": 106,
     "metadata": {},
     "output_type": "execute_result"
    }
   ],
   "source": [
    "sol_q[100,0]    #return y_0(t=1)"
   ]
  }
 ],
 "metadata": {
  "kernelspec": {
   "display_name": "Python 3",
   "language": "python",
   "name": "python3"
  },
  "language_info": {
   "codemirror_mode": {
    "name": "ipython",
    "version": 3
   },
   "file_extension": ".py",
   "mimetype": "text/x-python",
   "name": "python",
   "nbconvert_exporter": "python",
   "pygments_lexer": "ipython3",
   "version": "3.6.4"
  }
 },
 "nbformat": 4,
 "nbformat_minor": 2
}
